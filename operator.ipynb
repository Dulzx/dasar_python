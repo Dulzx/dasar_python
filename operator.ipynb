{
  "nbformat": 4,
  "nbformat_minor": 0,
  "metadata": {
    "colab": {
      "provenance": [],
      "include_colab_link": true
    },
    "kernelspec": {
      "name": "python3",
      "display_name": "Python 3"
    },
    "language_info": {
      "name": "python"
    }
  },
  "cells": [
    {
      "cell_type": "markdown",
      "metadata": {
        "id": "view-in-github",
        "colab_type": "text"
      },
      "source": [
        "<a href=\"https://colab.research.google.com/github/Azz-12/dasar_python/blob/main/operator.ipynb\" target=\"_parent\"><img src=\"https://colab.research.google.com/assets/colab-badge.svg\" alt=\"Open In Colab\"/></a>"
      ]
    },
    {
      "cell_type": "markdown",
      "source": [
        "**OPERATOR**\n",
        "\n",
        "Operator adalah simbol aritmatika pada bahasa pemrograman Python atau bahasa lainnya, untuk melihat seluruh operator yang tersedia pada Python Anda dapat melihat table di bawah ini.\n",
        "\n",
        "*1.Operator Aritmatika*\n",
        "\n",
        "Pertama-tama kita akan mendeklarasikan dua variabel a dan b."
      ],
      "metadata": {
        "id": "DHix1SReiVV2"
      }
    },
    {
      "cell_type": "code",
      "source": [
        "a = 6\n",
        "b = 2\n",
        "\n",
        "a + b # Penambahan\n",
        "8\n",
        "a - b # Pengurangan\n",
        "4\n",
        "a * b # Perkalian\n",
        "12\n",
        "a / b # Pembagian\n",
        "3.0\n",
        "a ** b # Eksponensial\n",
        "36\n",
        "\n",
        "a = 7\n",
        "b = 3\n",
        "a % b # Modulus (sisa pembagian)\n",
        "1\n",
        "a // b # Floor division (di bulatkan ke bawah)\n",
        "2"
      ],
      "metadata": {
        "colab": {
          "base_uri": "https://localhost:8080/"
        },
        "id": "XQWox_DpjQOH",
        "outputId": "91c23d63-495f-4f4a-9dbe-1b80ec342a27"
      },
      "execution_count": null,
      "outputs": [
        {
          "output_type": "execute_result",
          "data": {
            "text/plain": [
              "2"
            ]
          },
          "metadata": {},
          "execution_count": 1
        }
      ]
    },
    {
      "cell_type": "markdown",
      "source": [
        "*2.Operator Perbandingan*\n",
        "\n",
        "Contoh operator pembanding adalah sama dengan, lebih besar dari, serta kurang dari."
      ],
      "metadata": {
        "id": "MiFX0ibnjbgD"
      }
    },
    {
      "cell_type": "code",
      "source": [
        "a = 5\n",
        "b = 2\n",
        "a > b # Lebih besar\n",
        "True\n",
        "a < b # kurang dari\n",
        "False\n",
        "a == b # sama dengan\n",
        "False\n",
        "a >= 5 # lebih besar atau sama dengan\n",
        "True\n",
        "b <= 1 # lebih kecil atau sama dengan\n",
        "False"
      ],
      "metadata": {
        "colab": {
          "base_uri": "https://localhost:8080/"
        },
        "id": "AQr_E67Vjv4I",
        "outputId": "bb9c94da-2713-407f-eff0-1ac2f4160f42"
      },
      "execution_count": null,
      "outputs": [
        {
          "output_type": "execute_result",
          "data": {
            "text/plain": [
              "False"
            ]
          },
          "metadata": {},
          "execution_count": 2
        }
      ]
    },
    {
      "cell_type": "markdown",
      "source": [
        "*3.Operator Logika*\n",
        "\n",
        "\n",
        "Operator ini \"tidak termasuk\", \"dan\", \"dan atau\""
      ],
      "metadata": {
        "id": "rOTmJtvWj3nE"
      }
    },
    {
      "cell_type": "code",
      "source": [
        "a = 10\n",
        "b = 2\n",
        "a == 2 and b == 10 # dan\n",
        "False\n",
        "a == 10 or b == 10 # atau\n",
        "True\n",
        "not(a == 10) # tidak\n",
        "False\n",
        "not(a == 2)\n",
        "True"
      ],
      "metadata": {
        "colab": {
          "base_uri": "https://localhost:8080/"
        },
        "id": "E4QrUa7Gj-KH",
        "outputId": "dc57028b-f2cd-4726-ae1d-bafef614232e"
      },
      "execution_count": null,
      "outputs": [
        {
          "output_type": "execute_result",
          "data": {
            "text/plain": [
              "True"
            ]
          },
          "metadata": {},
          "execution_count": 3
        }
      ]
    }
  ]
}