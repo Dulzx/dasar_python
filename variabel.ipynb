{
  "nbformat": 4,
  "nbformat_minor": 0,
  "metadata": {
    "colab": {
      "provenance": [],
      "include_colab_link": true
    },
    "kernelspec": {
      "name": "python3",
      "display_name": "Python 3"
    },
    "language_info": {
      "name": "python"
    }
  },
  "cells": [
    {
      "cell_type": "markdown",
      "metadata": {
        "id": "view-in-github",
        "colab_type": "text"
      },
      "source": [
        "<a href=\"https://colab.research.google.com/github/Azz-12/variabel/blob/main/variabel.ipynb\" target=\"_parent\"><img src=\"https://colab.research.google.com/assets/colab-badge.svg\" alt=\"Open In Colab\"/></a>"
      ]
    },
    {
      "cell_type": "code",
      "execution_count": null,
      "metadata": {
        "id": "-jsiBGUW4839"
      },
      "outputs": [],
      "source": []
    },
    {
      "cell_type": "markdown",
      "source": [
        "# VARIABEL\n",
        "Sesuai dengan namanya, variable adalah sesuatu yang dapat berubah. Variabel ini digunakan untuk merujuk menuju lokasi memori oleh program komputer.\n",
        "Pada sebagian besar bahasa lain, Anda perlu menetapkan tipe data terhadap suatu variabel. Namun, hal itu tidak perlu dilakukan pada bahasa pemrograman python. Sebagai contoh, jika Anda menulis program dengan menggunakan bahasa C, maka sintaks yang harus anda tulis adalah int num = 39; Dengan Python Anda hanya cukup menuliskan num = 39.\n",
        "\n",
        "**INTEGER**\n",
        "\n",
        "Integer adalah angka numerik yang dapat berupa nilai positif, negatif, atau nol tanpa memiliki angka desimal"
      ],
      "metadata": {
        "id": "WiVpvjXz7KgW"
      }
    },
    {
      "cell_type": "code",
      "source": [
        "\n",
        "num = 39\n",
        "print(num)\n",
        "39\n",
        "type(num)"
      ],
      "metadata": {
        "id": "jHo2e6ir9wM8",
        "colab": {
          "base_uri": "https://localhost:8080/"
        },
        "outputId": "d89f41f9-c095-4e3a-8d8a-8b4a3d082aa3"
      },
      "execution_count": null,
      "outputs": [
        {
          "output_type": "stream",
          "name": "stdout",
          "text": [
            "39\n"
          ]
        },
        {
          "output_type": "execute_result",
          "data": {
            "text/plain": [
              "int"
            ]
          },
          "metadata": {},
          "execution_count": 1
        }
      ]
    },
    {
      "cell_type": "markdown",
      "source": [
        "Seperti yang telah kita lihat di atas, kita telah mendeklarasikan variabel num dan menetapkan angka 39 sebagai nilai variabel tersebut. Metode type yang sudah built-in pada bahasa pemrograman python dapat digunakan untuk memeriksa jenis suatu variabel.\n",
        "Ketika kita memeriksa jenis variable num dengan menggunakan metode type, maka kita akan melihat output   <class 'int'>.\n",
        "\n",
        "**FLOAT**\n",
        "\n",
        "Float adalah angka numerik sama seperti integer , namun ada sedikit perbedaan, yaitu adanya angka desimal"
      ],
      "metadata": {
        "id": "6ct2UxW1-UaP"
      }
    },
    {
      "cell_type": "code",
      "source": [
        "num = 39.0\n",
        "print(num)\n",
        "39.0\n",
        "type(num)"
      ],
      "metadata": {
        "colab": {
          "base_uri": "https://localhost:8080/"
        },
        "id": "pygzqXBn_Tsf",
        "outputId": "f199b9cf-dadd-4a09-e4c7-f3c437b66446"
      },
      "execution_count": null,
      "outputs": [
        {
          "output_type": "stream",
          "name": "stdout",
          "text": [
            "39.0\n"
          ]
        },
        {
          "output_type": "execute_result",
          "data": {
            "text/plain": [
              "float"
            ]
          },
          "metadata": {},
          "execution_count": 2
        }
      ]
    },
    {
      "cell_type": "markdown",
      "source": [
        "Dapat di lihat pada contoh tersebut bahwa kita telah menggunakan angka desimal pada num. Lalu, ketika kita memeriksanya pada bahasa pemrograman Python akan menunjukkan bahwa tipe data tersebut adalah float.\n",
        "\n",
        "\n",
        "**STRING**\n",
        "\n",
        "String adalah kumpulan beberapa karakter atau integer. String tersebut direpresentasikan dengan menggunakan tanda quotes (double ataupun single)."
      ],
      "metadata": {
        "id": "knPkeu-f_f2J"
      }
    },
    {
      "cell_type": "code",
      "source": [
        "test = \"Hallo semua\"\n",
        "print(test )\n",
        "type(test )"
      ],
      "metadata": {
        "colab": {
          "base_uri": "https://localhost:8080/"
        },
        "id": "2ZcUJGTS_4sM",
        "outputId": "97b01865-a5b3-4fbd-b59c-b10106e2d3fd"
      },
      "execution_count": null,
      "outputs": [
        {
          "output_type": "stream",
          "name": "stdout",
          "text": [
            "Hallo semua\n"
          ]
        },
        {
          "output_type": "execute_result",
          "data": {
            "text/plain": [
              "str"
            ]
          },
          "metadata": {},
          "execution_count": 3
        }
      ]
    },
    {
      "cell_type": "markdown",
      "source": [
        "**BOOLEAN**\n",
        "\n",
        "Boolean adalah operator biner yang hanya memiliki dua nilai output yaitu True atau False."
      ],
      "metadata": {
        "id": "WGQJ4SK-AOlK"
      }
    },
    {
      "cell_type": "code",
      "source": [
        "anda_robot = False\n",
        "print(anda_robot)\n",
        "False\n",
        "type(anda_robot)"
      ],
      "metadata": {
        "colab": {
          "base_uri": "https://localhost:8080/"
        },
        "id": "WNuJnhPnAegv",
        "outputId": "651054d3-1360-4921-9dfc-06a13cc3237f"
      },
      "execution_count": null,
      "outputs": [
        {
          "output_type": "stream",
          "name": "stdout",
          "text": [
            "False\n"
          ]
        },
        {
          "output_type": "execute_result",
          "data": {
            "text/plain": [
              "bool"
            ]
          },
          "metadata": {},
          "execution_count": 4
        }
      ]
    },
    {
      "cell_type": "markdown",
      "source": [
        "Di sini kita telah menetapkan nilai False kepada variable anda_robot. Jenis variabel ini adalah boolean. Kita hanya dapat menetapkan True atau False. Perlu di ingat bahwa T dan F harus berupa huruf kapital atau kita akan mendapatkan pesan error\n",
        "\n",
        "\n",
        "**NONE TYPE**"
      ],
      "metadata": {
        "id": "jt4QAAMuAija"
      }
    },
    {
      "cell_type": "code",
      "source": [
        "num = None\n",
        "print(num)\n",
        "None\n",
        "type(num)"
      ],
      "metadata": {
        "colab": {
          "base_uri": "https://localhost:8080/"
        },
        "id": "EoO3AtJLBdYe",
        "outputId": "d0b06e42-2dc4-412d-93a2-4e92f62e9df6"
      },
      "execution_count": null,
      "outputs": [
        {
          "output_type": "stream",
          "name": "stdout",
          "text": [
            "None\n"
          ]
        },
        {
          "output_type": "execute_result",
          "data": {
            "text/plain": [
              "NoneType"
            ]
          },
          "metadata": {},
          "execution_count": 5
        }
      ]
    }
  ]
}