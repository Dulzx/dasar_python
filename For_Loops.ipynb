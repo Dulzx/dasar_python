{
  "nbformat": 4,
  "nbformat_minor": 0,
  "metadata": {
    "colab": {
      "provenance": [],
      "include_colab_link": true
    },
    "kernelspec": {
      "name": "python3",
      "display_name": "Python 3"
    },
    "language_info": {
      "name": "python"
    }
  },
  "cells": [
    {
      "cell_type": "markdown",
      "metadata": {
        "id": "view-in-github",
        "colab_type": "text"
      },
      "source": [
        "<a href=\"https://colab.research.google.com/github/Azz-12/dasar_python/blob/main/For_Loops.ipynb\" target=\"_parent\"><img src=\"https://colab.research.google.com/assets/colab-badge.svg\" alt=\"Open In Colab\"/></a>"
      ]
    },
    {
      "cell_type": "code",
      "execution_count": null,
      "metadata": {
        "id": "j9al4LIN3Wjy"
      },
      "outputs": [],
      "source": []
    },
    {
      "cell_type": "markdown",
      "source": [
        "**FOR LOPS**\n",
        "\n",
        "Dapat dibayangkan jika kita ingin menulis kata \"Hai\" sebanyak seribu kali, tentu kode program kita akan sangat sulit untuk di baca, selain itu, kemungkinan terjadinya kesalahan sangat lah besar. Oleh karena itu, kita dapat menggunakan suatu cara yang disebut loop atau iterator. Ada dua cara untuk menjalankan perintah tersebut, yaitu dengan for atau while loop.\n",
        "\n",
        "Pada contoh kali ini, kita akan menggunakan metode range. Metode ini yang menentukan rentang loop seberapa banyak perintah harus di ulang. Secara default, titik awalnya adalah 0."
      ],
      "metadata": {
        "id": "JgIQ9FGA3XZd"
      }
    },
    {
      "cell_type": "code",
      "source": [
        "for i in range(3):\n",
        "   print(\"Hai\")"
      ],
      "metadata": {
        "colab": {
          "base_uri": "https://localhost:8080/"
        },
        "id": "o6kI51ZT39OG",
        "outputId": "951aa9d0-b40d-48b7-ee21-c6e6f4f575ec"
      },
      "execution_count": null,
      "outputs": [
        {
          "output_type": "stream",
          "name": "stdout",
          "text": [
            "Hai\n",
            "Hai\n",
            "Hai\n"
          ]
        }
      ]
    },
    {
      "cell_type": "markdown",
      "source": [
        "Kita pun dapat menambahkan perintah lain setelah loop selesai, seperti pada contoh di bawah ini:"
      ],
      "metadata": {
        "id": "OKRUnp8K4TIC"
      }
    },
    {
      "cell_type": "code",
      "source": [
        "for i in range(3):\n",
        "  print(\"Hai\")\n",
        "else:\n",
        "  print(\"Selesai\")"
      ],
      "metadata": {
        "colab": {
          "base_uri": "https://localhost:8080/"
        },
        "id": "089nb14n4VLt",
        "outputId": "fdd1756f-7575-4a66-baab-4ee492399c34"
      },
      "execution_count": null,
      "outputs": [
        {
          "output_type": "stream",
          "name": "stdout",
          "text": [
            "Hai\n",
            "Hai\n",
            "Hai\n",
            "Selesai\n"
          ]
        }
      ]
    },
    {
      "cell_type": "markdown",
      "source": [
        "Selain itu kita pun dapat melakukan nesting for loop di dalam for loop yang lain."
      ],
      "metadata": {
        "id": "IYhZzJZO4dHx"
      }
    },
    {
      "cell_type": "code",
      "source": [
        "for i in range(3):\n",
        "     for j in range(2):\n",
        "        print(\"loop di dalam\")\n",
        "     print(\"loop di luar\")"
      ],
      "metadata": {
        "colab": {
          "base_uri": "https://localhost:8080/"
        },
        "id": "N7cZ_nE04e2M",
        "outputId": "73cbdbf0-0619-4b12-889a-763233c725b3"
      },
      "execution_count": null,
      "outputs": [
        {
          "output_type": "stream",
          "name": "stdout",
          "text": [
            "loop di dalam\n",
            "loop di dalam\n",
            "loop di luar\n",
            "loop di dalam\n",
            "loop di dalam\n",
            "loop di luar\n",
            "loop di dalam\n",
            "loop di dalam\n",
            "loop di luar\n"
          ]
        }
      ]
    },
    {
      "cell_type": "markdown",
      "source": [
        "Dapat kita lihat bersama bahwa statement \"loop di dalam\" tereksekusi dua kali. Setelah itu \"loop di luar\" di eksekusi satu kali. Lalu, \"loop di dalam\" di eksekusi lagi sebanyak dua kali."
      ],
      "metadata": {
        "id": "nKIZTEoW4tMV"
      }
    },
    {
      "cell_type": "markdown",
      "source": [
        "• Python interpreter melihat ada perintah for loop pada bagian awal. Selanjutnya membaca ke bagian bawah dan menemukan keberadaan for loop yang lain.\n",
        "\n",
        "\n",
        "• Sehingga, Python akan mengesekusi \"loop di dalam\" sebanyak dua kali. Setelah selesai yang pertama, interpreter masih harus melakukannya dua kali lagi dari sisa \"loop di luar\" yang harus dilakukan.\n",
        "\n",
        "• Selanjutnya Interpreter melakukan tugas mulai lagi dari awal dan melihat for \"loop di dalam\" dan di ulangi terus hingga \"loop di luar\" selesai."
      ],
      "metadata": {
        "id": "g_zcqL5m4vqe"
      }
    }
  ]
}