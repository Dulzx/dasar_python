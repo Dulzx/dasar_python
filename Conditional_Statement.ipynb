{
  "nbformat": 4,
  "nbformat_minor": 0,
  "metadata": {
    "colab": {
      "provenance": [],
      "include_colab_link": true
    },
    "kernelspec": {
      "name": "python3",
      "display_name": "Python 3"
    },
    "language_info": {
      "name": "python"
    }
  },
  "cells": [
    {
      "cell_type": "markdown",
      "metadata": {
        "id": "view-in-github",
        "colab_type": "text"
      },
      "source": [
        "<a href=\"https://colab.research.google.com/github/Azz-12/dasar_python/blob/main/Conditional_Statement.ipynb\" target=\"_parent\"><img src=\"https://colab.research.google.com/assets/colab-badge.svg\" alt=\"Open In Colab\"/></a>"
      ]
    },
    {
      "cell_type": "code",
      "execution_count": null,
      "metadata": {
        "id": "uFZ16WX4kWKz"
      },
      "outputs": [],
      "source": []
    },
    {
      "cell_type": "markdown",
      "source": [
        "\n",
        "**CONDITIONAL STATEMENT**\n",
        "\n",
        "Conditional statement digunakan untuk memeriksa suatu kondisi yang ditentukan sebelumnya apakah nilai nya True atau False.\n",
        "\n",
        "*- Kondisi pertama.*\n",
        "\n",
        " Kita memiliki suatu integer dan tiga kondisi. Yang pertama adalah kondisi if untuk mengecek apakah nomor tersebut sama dengan 10. Yang kedua adalah kondisi elif. Disini kita akan memeriksa apakah nomor tersebut kurang dari 10. Yang terakhir adalah kondisi else. Kondisi ini akan tereksekusi jika kedua kondisi sebelumnya tidak memenuhi syarat."
      ],
      "metadata": {
        "id": "vz5J2RrIkwV6"
      }
    },
    {
      "cell_type": "code",
      "source": [
        "angka = 5\n",
        "if angka == 10:\n",
        "    print(\"angka adalah 10\")\n",
        "elif angka < 10:\n",
        "    print(\"angka adalah kurang dari 10\")\n",
        "else:\n",
        "    print(\"angka adalah lebih dari 10\")"
      ],
      "metadata": {
        "colab": {
          "base_uri": "https://localhost:8080/"
        },
        "id": "zr4nORQmlLZG",
        "outputId": "1a8addb3-2707-4797-d86e-9463fd9d6874"
      },
      "execution_count": null,
      "outputs": [
        {
          "output_type": "stream",
          "name": "stdout",
          "text": [
            "angka adalah kurang dari 10\n"
          ]
        }
      ]
    },
    {
      "cell_type": "markdown",
      "source": [
        "*- Kondisi kedua.*\n",
        "\n",
        "Pada kasus ini kita akan memiliki variabel boolean dan dua kondisi. Pada contoh sebelumnya ketika kita membahas mengenai boolean apakah benar atau salah? Saat ini kita akan menggunakannya kembali pada conditional statement.\n",
        "\n",
        "*Jika anda_robot, lalu print \"Ya, saya robot\", selain itu print \"bukan, saya manusia\".*"
      ],
      "metadata": {
        "id": "AQqIh-JqlZ_X"
      }
    },
    {
      "cell_type": "code",
      "source": [
        "anda_robot = False\n",
        "if anda_robot:\n",
        "    print (\"Ya, saya robot\")\n",
        "else:\n",
        "    print (\"bukan, saya manusia\")"
      ],
      "metadata": {
        "colab": {
          "base_uri": "https://localhost:8080/"
        },
        "id": "0HHb7Y-4lj8L",
        "outputId": "3f245ee7-4223-4f4c-bf53-35b6ea352306"
      },
      "execution_count": null,
      "outputs": [
        {
          "output_type": "stream",
          "name": "stdout",
          "text": [
            "bukan, saya manusia\n"
          ]
        }
      ]
    },
    {
      "cell_type": "markdown",
      "source": [
        "*- Kondisi ketiga.*\n",
        "\n",
        "Pada contoh ini kita akan membuat kondisi berkebalikan dari kondisi kedua dengan operator not."
      ],
      "metadata": {
        "id": "G551jMoXZD7C"
      }
    },
    {
      "cell_type": "code",
      "source": [
        "anda_robot = False\n",
        "if not anda_robot:\n",
        "    print (\"Ya, saya robot\")\n",
        "else:\n",
        "    print (\"bukan, saya ingin manusia\")"
      ],
      "metadata": {
        "colab": {
          "base_uri": "https://localhost:8080/"
        },
        "id": "2VJ90aDxZGHb",
        "outputId": "fbe92656-b4e3-4cb7-ee7b-ec21bd017a71"
      },
      "execution_count": null,
      "outputs": [
        {
          "output_type": "stream",
          "name": "stdout",
          "text": [
            "Ya, saya robot\n"
          ]
        }
      ]
    },
    {
      "cell_type": "markdown",
      "source": [
        "*- Kondisi ke empat.*\n",
        "\n",
        "Disini kita akan mendeklarasikan data sebagai None, lalu memeriksanya jika data tersebut ada atau tidak."
      ],
      "metadata": {
        "id": "4mVoUkpcZavw"
      }
    },
    {
      "cell_type": "code",
      "source": [
        "data = None\n",
        "if data:\n",
        "    print (\"data bukan none\")\n",
        "else:\n",
        "    print (\"data adalah none\")"
      ],
      "metadata": {
        "colab": {
          "base_uri": "https://localhost:8080/"
        },
        "id": "i_G7EGmLZhob",
        "outputId": "5005764a-82f5-4cd1-8f2a-2db37dcee4d5"
      },
      "execution_count": null,
      "outputs": [
        {
          "output_type": "stream",
          "name": "stdout",
          "text": [
            "data adalah none\n"
          ]
        }
      ]
    },
    {
      "cell_type": "markdown",
      "source": [
        "*- Kondisi kelima.*\n",
        "\n",
        "Anda pun dapat menggunakan if dalam satu baris pada bahasa pemrograman Python. Syntax nya akan terlihat seperti pada:"
      ],
      "metadata": {
        "id": "fFzJOptgZruE"
      }
    },
    {
      "cell_type": "code",
      "source": [
        "a = 10\n",
        "b = 5\n",
        "if a > b: print(\"a lebih besar dari b\")"
      ],
      "metadata": {
        "colab": {
          "base_uri": "https://localhost:8080/"
        },
        "id": "IVeqvCgaZvQ-",
        "outputId": "db2f6d52-219d-40ad-cd50-dac11c361be7"
      },
      "execution_count": null,
      "outputs": [
        {
          "output_type": "stream",
          "name": "stdout",
          "text": [
            "a lebih besar dari b\n"
          ]
        }
      ]
    },
    {
      "cell_type": "markdown",
      "source": [
        "*- Kondisi ke enam.*\n",
        "\n",
        " Anda pun dapat menggunakan if else dalam satu baris, seperti pada contoh di bawah ini:"
      ],
      "metadata": {
        "id": "jL3Qy6cBZ8kn"
      }
    },
    {
      "cell_type": "code",
      "source": [
        "num = 5\n",
        "print(\"Angka adalah lima \") if num == 5 else print(\"Angka bukan lima\")"
      ],
      "metadata": {
        "colab": {
          "base_uri": "https://localhost:8080/"
        },
        "id": "CzcJ_qcHaCQ9",
        "outputId": "50eb42ff-b211-44ca-cb4a-a9821d6dc81f"
      },
      "execution_count": null,
      "outputs": [
        {
          "output_type": "stream",
          "name": "stdout",
          "text": [
            "Angka adalah lima \n"
          ]
        }
      ]
    },
    {
      "cell_type": "markdown",
      "source": [
        "*- Kondisi ketujuh.*\n",
        "\n",
        "Anda pun dapat menggunakan nested if-else statement, yaitu:"
      ],
      "metadata": {
        "id": "P3WjfzS3aIoA"
      }
    },
    {
      "cell_type": "code",
      "source": [
        "num = 25\n",
        "if num > 10:\n",
        "    print(\"Angka lebih besar dari 10\")\n",
        "    if num > 20:\n",
        "        print(\"Angka lebih besar dari 20\")\n",
        "    if num > 30:\n",
        "        print(\"Angka lebih besar dari 30\")\n",
        "else:\n",
        "    print(\"Angka lebih kecil dari 10\")"
      ],
      "metadata": {
        "colab": {
          "base_uri": "https://localhost:8080/"
        },
        "id": "OvrmqsMw1gay",
        "outputId": "cc8d7bd4-493c-4881-8aba-04c66dd8f4f2"
      },
      "execution_count": null,
      "outputs": [
        {
          "output_type": "stream",
          "name": "stdout",
          "text": [
            "Angka lebih besar dari 10\n",
            "Angka lebih besar dari 20\n"
          ]
        }
      ]
    },
    {
      "cell_type": "markdown",
      "source": [
        "*- Kondisi kedelapan.*\n",
        "\n",
        "Anda dapat pula mengunakan operator and pada conditional statement. Operator ini menyatakan jika kondisi 1 dan 2 keduanya adalah benar."
      ],
      "metadata": {
        "id": "g46puA5j17Rt"
      }
    },
    {
      "cell_type": "code",
      "source": [
        "num = 10\n",
        "if num > 5 and num < 15:\n",
        "     print(num)\n",
        "else:\n",
        "     print(\"Angka bisa lebih kecil dari 5 atau lebih besar dari 15\")"
      ],
      "metadata": {
        "colab": {
          "base_uri": "https://localhost:8080/"
        },
        "id": "4SMLKAgE2ADF",
        "outputId": "fcaf38e2-3a5a-4cab-c13d-4d549cfc9262"
      },
      "execution_count": null,
      "outputs": [
        {
          "output_type": "stream",
          "name": "stdout",
          "text": [
            "10\n"
          ]
        }
      ]
    },
    {
      "cell_type": "markdown",
      "source": [
        "*- Kondisi kesembilan.*\n",
        "\n",
        " Anda pun dapat menggunakan operator or dalam pernyataan bersyarat. Hal ini untuk menyatakan bahwa jika salah satu kondisi 1 atau kondisi 2 benar, sehingga program akan di eksekusi."
      ],
      "metadata": {
        "id": "iKWzBikU2ID5"
      }
    },
    {
      "cell_type": "code",
      "source": [
        "num = 10\n",
        "if num > 5 or num < 7:\n",
        "     print(num)"
      ],
      "metadata": {
        "colab": {
          "base_uri": "https://localhost:8080/"
        },
        "id": "jJyLGFmm2VPr",
        "outputId": "7dc437dc-637c-4ea2-c1df-d5d2aa83821b"
      },
      "execution_count": null,
      "outputs": [
        {
          "output_type": "stream",
          "name": "stdout",
          "text": [
            "10\n"
          ]
        }
      ]
    }
  ]
}